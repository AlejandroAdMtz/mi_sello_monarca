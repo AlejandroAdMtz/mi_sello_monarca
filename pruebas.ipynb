{
 "cells": [
  {
   "cell_type": "code",
   "execution_count": 1,
   "id": "cdf6dc4d",
   "metadata": {},
   "outputs": [
    {
     "ename": "ModuleNotFoundError",
     "evalue": "No module named 'requests'",
     "output_type": "error",
     "traceback": [
      "\u001b[31m---------------------------------------------------------------------------\u001b[39m",
      "\u001b[31mModuleNotFoundError\u001b[39m                       Traceback (most recent call last)",
      "\u001b[36mCell\u001b[39m\u001b[36m \u001b[39m\u001b[32mIn[1]\u001b[39m\u001b[32m, line 1\u001b[39m\n\u001b[32m----> \u001b[39m\u001b[32m1\u001b[39m \u001b[38;5;28;01mimport\u001b[39;00m\u001b[38;5;250m \u001b[39m\u001b[34;01mrequests\u001b[39;00m\n\u001b[32m      2\u001b[39m \u001b[38;5;28;01mimport\u001b[39;00m\u001b[38;5;250m \u001b[39m\u001b[34;01mos\u001b[39;00m\n\u001b[32m      3\u001b[39m \u001b[38;5;28;01mfrom\u001b[39;00m\u001b[38;5;250m \u001b[39m\u001b[34;01mmsal\u001b[39;00m\u001b[38;5;250m \u001b[39m\u001b[38;5;28;01mimport\u001b[39;00m ConfidentialClientApplication\n",
      "\u001b[31mModuleNotFoundError\u001b[39m: No module named 'requests'"
     ]
    }
   ],
   "source": [
    "import requests\n",
    "import os\n",
    "from msal import ConfidentialClientApplication"
   ]
  },
  {
   "cell_type": "code",
   "execution_count": null,
   "id": "61fac57a",
   "metadata": {},
   "outputs": [],
   "source": [
    "# Configuration - Replace these values\n",
    "TENANT_ID = \"c65a3ea6-0f7c-400b-8934-5a6dc1705645\"\n",
    "CLIENT_ID = \"your_client_id\"\n",
    "CLIENT_SECRET = \"your_client_secret\"\n",
    "SHAREPOINT_SITE_ID = \"your_site_id\"  # Found in SharePoint site URL\n",
    "DRIVE_ID = \"your_drive_id\"           # Document library ID\n",
    "FILE_ITEM_ID = \"your_file_item_id\"   # File's unique ID in SharePoint\n",
    "\n",
    "# 1. Authenticate and get access token\n",
    "def get_access_token():\n",
    "    authority = f\"https://login.microsoftonline.com/{TENANT_ID}\"\n",
    "    app = ConfidentialClientApplication(\n",
    "        CLIENT_ID,\n",
    "        authority=authority,\n",
    "        client_credential=CLIENT_SECRET\n",
    "    )\n",
    "    result = app.acquire_token_for_client(scopes=[\"https://graph.microsoft.com/.default\"])\n",
    "    return result[\"access_token\"]\n",
    "\n",
    "# 2. Download PDF content as bytes\n",
    "def get_sharepoint_file_bytes():\n",
    "    access_token = get_access_token()\n",
    "    headers = {\"Authorization\": f\"Bearer {access_token}\"}\n",
    "    \n",
    "    # Graph API endpoint for file content\n",
    "    graph_url = (\n",
    "        f\"https://graph.microsoft.com/v1.0/sites/{SHAREPOINT_SITE_ID}\"\n",
    "        f\"/drives/{DRIVE_ID}/items/{FILE_ITEM_ID}/content\"\n",
    "    )\n",
    "    \n",
    "    response = requests.get(graph_url, headers=headers)\n",
    "    if response.status_code == 200:\n",
    "        return response.content  # This is your pdf_bytes\n",
    "    else:\n",
    "        raise Exception(f\"Failed to download file: {response.status_code} - {response.text}\")\n",
    "\n",
    "# Usage\n",
    "try:\n",
    "    pdf_bytes = get_sharepoint_file_bytes()\n",
    "    print(f\"Successfully retrieved {len(pdf_bytes)} bytes\")\n",
    "except Exception as e:\n",
    "    print(f\"Error: {str(e)}\")"
   ]
  },
  {
   "cell_type": "code",
   "execution_count": 2,
   "id": "054ea648",
   "metadata": {},
   "outputs": [
    {
     "name": "stdout",
     "output_type": "stream",
     "text": [
      "Collecting shareplum\n",
      "  Downloading SharePlum-0.5.1-py2.py3-none-any.whl.metadata (3.7 kB)\n",
      "Collecting lxml (from shareplum)\n",
      "  Downloading lxml-5.4.0-cp312-cp312-win_amd64.whl.metadata (3.6 kB)\n",
      "Collecting requests (from shareplum)\n",
      "  Using cached requests-2.32.3-py3-none-any.whl.metadata (4.6 kB)\n",
      "Collecting requests-ntlm (from shareplum)\n",
      "  Downloading requests_ntlm-1.3.0-py3-none-any.whl.metadata (2.4 kB)\n",
      "Collecting requests-toolbelt (from shareplum)\n",
      "  Using cached requests_toolbelt-1.0.0-py2.py3-none-any.whl.metadata (14 kB)\n",
      "Collecting charset-normalizer<4,>=2 (from requests->shareplum)\n",
      "  Using cached charset_normalizer-3.4.2-cp312-cp312-win_amd64.whl.metadata (36 kB)\n",
      "Collecting idna<4,>=2.5 (from requests->shareplum)\n",
      "  Using cached idna-3.10-py3-none-any.whl.metadata (10 kB)\n",
      "Collecting urllib3<3,>=1.21.1 (from requests->shareplum)\n",
      "  Using cached urllib3-2.4.0-py3-none-any.whl.metadata (6.5 kB)\n",
      "Collecting certifi>=2017.4.17 (from requests->shareplum)\n",
      "  Using cached certifi-2025.4.26-py3-none-any.whl.metadata (2.5 kB)\n",
      "Requirement already satisfied: cryptography>=1.3 in c:\\users\\alexa\\desktop\\tec\\semestre 6\\cripto\\reto\\mi_sello_monarca\\.venv\\lib\\site-packages (from requests-ntlm->shareplum) (41.0.3)\n",
      "Collecting pyspnego>=0.4.0 (from requests-ntlm->shareplum)\n",
      "  Downloading pyspnego-0.11.2-py3-none-any.whl.metadata (5.4 kB)\n",
      "Requirement already satisfied: cffi>=1.12 in c:\\users\\alexa\\desktop\\tec\\semestre 6\\cripto\\reto\\mi_sello_monarca\\.venv\\lib\\site-packages (from cryptography>=1.3->requests-ntlm->shareplum) (1.17.1)\n",
      "Collecting sspilib>=0.1.0 (from pyspnego>=0.4.0->requests-ntlm->shareplum)\n",
      "  Downloading sspilib-0.3.1-cp312-cp312-win_amd64.whl.metadata (6.2 kB)\n",
      "Requirement already satisfied: pycparser in c:\\users\\alexa\\desktop\\tec\\semestre 6\\cripto\\reto\\mi_sello_monarca\\.venv\\lib\\site-packages (from cffi>=1.12->cryptography>=1.3->requests-ntlm->shareplum) (2.22)\n",
      "Downloading SharePlum-0.5.1-py2.py3-none-any.whl (25 kB)\n",
      "Downloading lxml-5.4.0-cp312-cp312-win_amd64.whl (3.8 MB)\n",
      "   ---------------------------------------- 0.0/3.8 MB ? eta -:--:--\n",
      "   -------- ------------------------------- 0.8/3.8 MB 4.8 MB/s eta 0:00:01\n",
      "   --------------------- ------------------ 2.1/3.8 MB 6.2 MB/s eta 0:00:01\n",
      "   -------------------------------------- - 3.7/3.8 MB 6.8 MB/s eta 0:00:01\n",
      "   ---------------------------------------- 3.8/3.8 MB 6.3 MB/s eta 0:00:00\n",
      "Using cached requests-2.32.3-py3-none-any.whl (64 kB)\n",
      "Downloading requests_ntlm-1.3.0-py3-none-any.whl (6.6 kB)\n",
      "Using cached requests_toolbelt-1.0.0-py2.py3-none-any.whl (54 kB)\n",
      "Using cached certifi-2025.4.26-py3-none-any.whl (159 kB)\n",
      "Using cached charset_normalizer-3.4.2-cp312-cp312-win_amd64.whl (105 kB)\n",
      "Using cached idna-3.10-py3-none-any.whl (70 kB)\n",
      "Downloading pyspnego-0.11.2-py3-none-any.whl (130 kB)\n",
      "Using cached urllib3-2.4.0-py3-none-any.whl (128 kB)\n",
      "Downloading sspilib-0.3.1-cp312-cp312-win_amd64.whl (625 kB)\n",
      "   ---------------------------------------- 0.0/626.0 kB ? eta -:--:--\n",
      "   ---------------------------------------- 626.0/626.0 kB 7.7 MB/s eta 0:00:00\n",
      "Installing collected packages: urllib3, sspilib, lxml, idna, charset-normalizer, certifi, requests, requests-toolbelt, pyspnego, requests-ntlm, shareplum\n",
      "Successfully installed certifi-2025.4.26 charset-normalizer-3.4.2 idna-3.10 lxml-5.4.0 pyspnego-0.11.2 requests-2.32.3 requests-ntlm-1.3.0 requests-toolbelt-1.0.0 shareplum-0.5.1 sspilib-0.3.1 urllib3-2.4.0\n",
      "Note: you may need to restart the kernel to use updated packages.\n"
     ]
    },
    {
     "name": "stderr",
     "output_type": "stream",
     "text": [
      "\n",
      "[notice] A new release of pip is available: 25.0.1 -> 25.1.1\n",
      "[notice] To update, run: python.exe -m pip install --upgrade pip\n"
     ]
    }
   ],
   "source": [
    "pip install shareplum"
   ]
  },
  {
   "cell_type": "code",
   "execution_count": 4,
   "id": "f0c4d20b",
   "metadata": {},
   "outputs": [],
   "source": [
    "import requests\n",
    "from shareplum import Site\n",
    "from shareplum import Office365\n",
    "from shareplum.site import Version\n"
   ]
  },
  {
   "cell_type": "code",
   "execution_count": null,
   "id": "614cd235",
   "metadata": {},
   "outputs": [],
   "source": [
    "\n",
    "# 2. Connect to the site\n",
    "site = Site(\n",
    "    SHAREPOINT_SITE_URL, \n",
    "    version=Version.v365, \n",
    "    authcookie=authcookie\n",
    ")\n"
   ]
  },
  {
   "cell_type": "code",
   "execution_count": null,
   "id": "5205b5d4",
   "metadata": {},
   "outputs": [],
   "source": [
    "\n",
    "# 3. Access the document library\n",
    "docs_folder = site.Folder(DOC_LIBRARY_NAME)\n",
    "\n",
    "# 4. Get the file content as bytes\n",
    "file_content = docs_folder.get_file(FILE_NAME)\n",
    "pdf_bytes = file_content"
   ]
  }
 ],
 "metadata": {
  "kernelspec": {
   "display_name": ".venv",
   "language": "python",
   "name": "python3"
  },
  "language_info": {
   "codemirror_mode": {
    "name": "ipython",
    "version": 3
   },
   "file_extension": ".py",
   "mimetype": "text/x-python",
   "name": "python",
   "nbconvert_exporter": "python",
   "pygments_lexer": "ipython3",
   "version": "3.12.10"
  }
 },
 "nbformat": 4,
 "nbformat_minor": 5
}
